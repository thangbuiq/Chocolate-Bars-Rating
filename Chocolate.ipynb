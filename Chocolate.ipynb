{
 "cells": [
  {
   "cell_type": "markdown",
   "id": "16211cd5",
   "metadata": {},
   "source": [
    "# COURSERA COURSE 7 CHALLENGE\n",
    "##### Link file csv: https://www.kaggle.com/datasets/rtatman/chocolate-bar-ratings"
   ]
  },
  {
   "cell_type": "markdown",
   "id": "c8404773",
   "metadata": {},
   "source": [
    "#### Câu 1: What is another benefit of using R for the project?\n",
    "\"Create high-quality visualizations\" hoặc đáp án có \"Share analysis\", tùy đề."
   ]
  },
  {
   "cell_type": "markdown",
   "id": "eeda8532",
   "metadata": {},
   "source": [
    "#### Câu 2: Import dataframes từ file csv (tải trên Kaggle)"
   ]
  },
  {
   "cell_type": "code",
   "execution_count": 1,
   "id": "93bcc80a",
   "metadata": {},
   "outputs": [
    {
     "name": "stderr",
     "output_type": "stream",
     "text": [
      "── \u001b[1mAttaching packages\u001b[22m ─────────────────────────────────────────────────────────────────────────────── tidyverse 1.3.2 ──\n",
      "\u001b[32m✔\u001b[39m \u001b[34mggplot2\u001b[39m 3.3.6     \u001b[32m✔\u001b[39m \u001b[34mpurrr  \u001b[39m 0.3.4\n",
      "\u001b[32m✔\u001b[39m \u001b[34mtibble \u001b[39m 3.1.8     \u001b[32m✔\u001b[39m \u001b[34mdplyr  \u001b[39m 1.0.9\n",
      "\u001b[32m✔\u001b[39m \u001b[34mtidyr  \u001b[39m 1.2.0     \u001b[32m✔\u001b[39m \u001b[34mstringr\u001b[39m 1.4.0\n",
      "\u001b[32m✔\u001b[39m \u001b[34mreadr  \u001b[39m 2.1.2     \u001b[32m✔\u001b[39m \u001b[34mforcats\u001b[39m 0.5.1\n",
      "── \u001b[1mConflicts\u001b[22m ────────────────────────────────────────────────────────────────────────────────── tidyverse_conflicts() ──\n",
      "\u001b[31m✖\u001b[39m \u001b[34mdplyr\u001b[39m::\u001b[32mfilter()\u001b[39m masks \u001b[34mstats\u001b[39m::filter()\n",
      "\u001b[31m✖\u001b[39m \u001b[34mdplyr\u001b[39m::\u001b[32mlag()\u001b[39m    masks \u001b[34mstats\u001b[39m::lag()\n",
      "\n",
      "Attaching package: 'janitor'\n",
      "\n",
      "\n",
      "The following objects are masked from 'package:stats':\n",
      "\n",
      "    chisq.test, fisher.test\n",
      "\n",
      "\n",
      "\u001b[1mRows: \u001b[22m\u001b[34m1795\u001b[39m \u001b[1mColumns: \u001b[22m\u001b[34m9\u001b[39m\n",
      "\u001b[36m──\u001b[39m \u001b[1mColumn specification\u001b[22m \u001b[36m────────────────────────────────────────────────────────────────────────────────────────────────\u001b[39m\n",
      "\u001b[1mDelimiter:\u001b[22m \",\"\n",
      "\u001b[31mchr\u001b[39m (6): Company \n",
      "(Maker-if known), Specific Bean Origin\n",
      "or Bar Name, Cocoa\n",
      "...\n",
      "\u001b[32mdbl\u001b[39m (3): REF, Review\n",
      "Date, Rating\n",
      "\n",
      "\u001b[36mℹ\u001b[39m Use `spec()` to retrieve the full column specification for this data.\n",
      "\u001b[36mℹ\u001b[39m Specify the column types or set `show_col_types = FALSE` to quiet this message.\n"
     ]
    },
    {
     "data": {
      "text/html": [
       "<style>\n",
       ".list-inline {list-style: none; margin:0; padding: 0}\n",
       ".list-inline>li {display: inline-block}\n",
       ".list-inline>li:not(:last-child)::after {content: \"\\00b7\"; padding: 0 .5ex}\n",
       "</style>\n",
       "<ol class=list-inline><li>'Company \\n(Maker-if known)'</li><li>'Specific Bean Origin\\nor Bar Name'</li><li>'REF'</li><li>'Review\\nDate'</li><li>'Cocoa\\nPercent'</li><li>'Company\\nLocation'</li><li>'Rating'</li><li>'Bean\\nType'</li><li>'Broad Bean\\nOrigin'</li></ol>\n"
      ],
      "text/latex": [
       "\\begin{enumerate*}\n",
       "\\item 'Company \\textbackslash{}n(Maker-if known)'\n",
       "\\item 'Specific Bean Origin\\textbackslash{}nor Bar Name'\n",
       "\\item 'REF'\n",
       "\\item 'Review\\textbackslash{}nDate'\n",
       "\\item 'Cocoa\\textbackslash{}nPercent'\n",
       "\\item 'Company\\textbackslash{}nLocation'\n",
       "\\item 'Rating'\n",
       "\\item 'Bean\\textbackslash{}nType'\n",
       "\\item 'Broad Bean\\textbackslash{}nOrigin'\n",
       "\\end{enumerate*}\n"
      ],
      "text/markdown": [
       "1. 'Company \\n(Maker-if known)'\n",
       "2. 'Specific Bean Origin\\nor Bar Name'\n",
       "3. 'REF'\n",
       "4. 'Review\\nDate'\n",
       "5. 'Cocoa\\nPercent'\n",
       "6. 'Company\\nLocation'\n",
       "7. 'Rating'\n",
       "8. 'Bean\\nType'\n",
       "9. 'Broad Bean\\nOrigin'\n",
       "\n",
       "\n"
      ],
      "text/plain": [
       "[1] \"Company \\n(Maker-if known)\"        \"Specific Bean Origin\\nor Bar Name\"\n",
       "[3] \"REF\"                               \"Review\\nDate\"                     \n",
       "[5] \"Cocoa\\nPercent\"                    \"Company\\nLocation\"                \n",
       "[7] \"Rating\"                            \"Bean\\nType\"                       \n",
       "[9] \"Broad Bean\\nOrigin\"               "
      ]
     },
     "metadata": {},
     "output_type": "display_data"
    }
   ],
   "source": [
    "#Import essential packages\n",
    "library('tidyverse')\n",
    "library('janitor')\n",
    "#Import dataframes from flavors_of_cacao.csv\n",
    "bars_df <- read_csv('flavors_of_cacao.csv')\n",
    "colnames(bars_df) #To see that column names are not available to use (because of \\n)"
   ]
  },
  {
   "cell_type": "markdown",
   "id": "29219169",
   "metadata": {},
   "source": [
    "#### Câu 3: Xem contents của dataframe vừa import"
   ]
  },
  {
   "cell_type": "code",
   "execution_count": 2,
   "id": "14d1a44e",
   "metadata": {},
   "outputs": [
    {
     "name": "stdout",
     "output_type": "stream",
     "text": [
      "Rows: 1,795\n",
      "Columns: 9\n",
      "$ `Company \\n(Maker-if known)`        \u001b[3m\u001b[90m<chr>\u001b[39m\u001b[23m \"A. Morin\", \"A. Morin\", \"A. Morin\"…\n",
      "$ `Specific Bean Origin\\nor Bar Name` \u001b[3m\u001b[90m<chr>\u001b[39m\u001b[23m \"Agua Grande\", \"Kpime\", \"Atsane\", …\n",
      "$ REF                                 \u001b[3m\u001b[90m<dbl>\u001b[39m\u001b[23m 1876, 1676, 1676, 1680, 1704, 1315…\n",
      "$ `Review\\nDate`                      \u001b[3m\u001b[90m<dbl>\u001b[39m\u001b[23m 2016, 2015, 2015, 2015, 2015, 2014…\n",
      "$ `Cocoa\\nPercent`                    \u001b[3m\u001b[90m<chr>\u001b[39m\u001b[23m \"63%\", \"70%\", \"70%\", \"70%\", \"70%\",…\n",
      "$ `Company\\nLocation`                 \u001b[3m\u001b[90m<chr>\u001b[39m\u001b[23m \"France\", \"France\", \"France\", \"Fra…\n",
      "$ Rating                              \u001b[3m\u001b[90m<dbl>\u001b[39m\u001b[23m 3.75, 2.75, 3.00, 3.50, 3.50, 2.75…\n",
      "$ `Bean\\nType`                        \u001b[3m\u001b[90m<chr>\u001b[39m\u001b[23m \" \", \" \", \" \", \" \", \" \", \"Criollo\"…\n",
      "$ `Broad Bean\\nOrigin`                \u001b[3m\u001b[90m<chr>\u001b[39m\u001b[23m \"Sao Tome\", \"Togo\", \"Togo\", \"Togo\"…\n"
     ]
    }
   ],
   "source": [
    "glimpse(bars_df)"
   ]
  },
  {
   "cell_type": "markdown",
   "id": "6be8419e",
   "metadata": {},
   "source": [
    "#### Câu 4,5: Chọn ra 3 thuộc tích (Cocoa Percent, Company Location và Rating)\n",
    "Trước khi nhập select được, ta nhận thấy tên của mỗi cột đang không thể sử dụng được vì chứa ký tự xuống dòng (\\n) và các ký tự đặc biệt như dấu cách và dấu ngoặc, nên ta cần cleans và drop NA trước. Chính vì vậy nếu không xử lý tên cột trước, hàm select sẽ không thể biết được cột nào."
   ]
  },
  {
   "cell_type": "code",
   "execution_count": 3,
   "id": "8433daca",
   "metadata": {},
   "outputs": [
    {
     "data": {
      "text/html": [
       "<table class=\"dataframe\">\n",
       "<caption>A tibble: 6 × 9</caption>\n",
       "<thead>\n",
       "\t<tr><th scope=col>Company \n",
       "(Maker-if known)</th><th scope=col>Specific Bean Origin\n",
       "or Bar Name</th><th scope=col>REF</th><th scope=col>Review\n",
       "Date</th><th scope=col>Cocoa\n",
       "Percent</th><th scope=col>Company\n",
       "Location</th><th scope=col>Rating</th><th scope=col>Bean\n",
       "Type</th><th scope=col>Broad Bean\n",
       "Origin</th></tr>\n",
       "\t<tr><th scope=col>&lt;chr&gt;</th><th scope=col>&lt;chr&gt;</th><th scope=col>&lt;dbl&gt;</th><th scope=col>&lt;dbl&gt;</th><th scope=col>&lt;chr&gt;</th><th scope=col>&lt;chr&gt;</th><th scope=col>&lt;dbl&gt;</th><th scope=col>&lt;chr&gt;</th><th scope=col>&lt;chr&gt;</th></tr>\n",
       "</thead>\n",
       "<tbody>\n",
       "\t<tr><td>A. Morin</td><td>Agua Grande</td><td>1876</td><td>2016</td><td>63%</td><td>France</td><td>3.75</td><td>       </td><td>Sao Tome </td></tr>\n",
       "\t<tr><td>A. Morin</td><td>Kpime      </td><td>1676</td><td>2015</td><td>70%</td><td>France</td><td>2.75</td><td>       </td><td>Togo     </td></tr>\n",
       "\t<tr><td>A. Morin</td><td>Atsane     </td><td>1676</td><td>2015</td><td>70%</td><td>France</td><td>3.00</td><td>       </td><td>Togo     </td></tr>\n",
       "\t<tr><td>A. Morin</td><td>Akata      </td><td>1680</td><td>2015</td><td>70%</td><td>France</td><td>3.50</td><td>       </td><td>Togo     </td></tr>\n",
       "\t<tr><td>A. Morin</td><td>Quilla     </td><td>1704</td><td>2015</td><td>70%</td><td>France</td><td>3.50</td><td>       </td><td>Peru     </td></tr>\n",
       "\t<tr><td>A. Morin</td><td>Carenero   </td><td>1315</td><td>2014</td><td>70%</td><td>France</td><td>2.75</td><td>Criollo</td><td>Venezuela</td></tr>\n",
       "</tbody>\n",
       "</table>\n"
      ],
      "text/latex": [
       "A tibble: 6 × 9\n",
       "\\begin{tabular}{lllllllll}\n",
       " Company \n",
       "(Maker-if known) & Specific Bean Origin\n",
       "or Bar Name & REF & Review\n",
       "Date & Cocoa\n",
       "Percent & Company\n",
       "Location & Rating & Bean\n",
       "Type & Broad Bean\n",
       "Origin\\\\\n",
       " <chr> & <chr> & <dbl> & <dbl> & <chr> & <chr> & <dbl> & <chr> & <chr>\\\\\n",
       "\\hline\n",
       "\t A. Morin & Agua Grande & 1876 & 2016 & 63\\% & France & 3.75 &         & Sao Tome \\\\\n",
       "\t A. Morin & Kpime       & 1676 & 2015 & 70\\% & France & 2.75 &         & Togo     \\\\\n",
       "\t A. Morin & Atsane      & 1676 & 2015 & 70\\% & France & 3.00 &         & Togo     \\\\\n",
       "\t A. Morin & Akata       & 1680 & 2015 & 70\\% & France & 3.50 &         & Togo     \\\\\n",
       "\t A. Morin & Quilla      & 1704 & 2015 & 70\\% & France & 3.50 &         & Peru     \\\\\n",
       "\t A. Morin & Carenero    & 1315 & 2014 & 70\\% & France & 2.75 & Criollo & Venezuela\\\\\n",
       "\\end{tabular}\n"
      ],
      "text/markdown": [
       "\n",
       "A tibble: 6 × 9\n",
       "\n",
       "| Company \n",
       "(Maker-if known) &lt;chr&gt; | Specific Bean Origin\n",
       "or Bar Name &lt;chr&gt; | REF &lt;dbl&gt; | Review\n",
       "Date &lt;dbl&gt; | Cocoa\n",
       "Percent &lt;chr&gt; | Company\n",
       "Location &lt;chr&gt; | Rating &lt;dbl&gt; | Bean\n",
       "Type &lt;chr&gt; | Broad Bean\n",
       "Origin &lt;chr&gt; |\n",
       "|---|---|---|---|---|---|---|---|---|\n",
       "| A. Morin | Agua Grande | 1876 | 2016 | 63% | France | 3.75 |         | Sao Tome  |\n",
       "| A. Morin | Kpime       | 1676 | 2015 | 70% | France | 2.75 |         | Togo      |\n",
       "| A. Morin | Atsane      | 1676 | 2015 | 70% | France | 3.00 |         | Togo      |\n",
       "| A. Morin | Akata       | 1680 | 2015 | 70% | France | 3.50 |         | Togo      |\n",
       "| A. Morin | Quilla      | 1704 | 2015 | 70% | France | 3.50 |         | Peru      |\n",
       "| A. Morin | Carenero    | 1315 | 2014 | 70% | France | 2.75 | Criollo | Venezuela |\n",
       "\n"
      ],
      "text/plain": [
       "  Company \\n(Maker-if known) Specific Bean Origin\\nor Bar Name REF \n",
       "1 A. Morin                   Agua Grande                       1876\n",
       "2 A. Morin                   Kpime                             1676\n",
       "3 A. Morin                   Atsane                            1676\n",
       "4 A. Morin                   Akata                             1680\n",
       "5 A. Morin                   Quilla                            1704\n",
       "6 A. Morin                   Carenero                          1315\n",
       "  Review\\nDate Cocoa\\nPercent Company\\nLocation Rating Bean\\nType\n",
       "1 2016         63%            France            3.75             \n",
       "2 2015         70%            France            2.75             \n",
       "3 2015         70%            France            3.00             \n",
       "4 2015         70%            France            3.50             \n",
       "5 2015         70%            France            3.50             \n",
       "6 2014         70%            France            2.75   Criollo   \n",
       "  Broad Bean\\nOrigin\n",
       "1 Sao Tome          \n",
       "2 Togo              \n",
       "3 Togo              \n",
       "4 Togo              \n",
       "5 Peru              \n",
       "6 Venezuela         "
      ]
     },
     "metadata": {},
     "output_type": "display_data"
    }
   ],
   "source": [
    "#Preview Dataframes before processing\n",
    "head(bars_df)"
   ]
  },
  {
   "cell_type": "code",
   "execution_count": 4,
   "id": "15d46216",
   "metadata": {},
   "outputs": [
    {
     "data": {
      "text/html": [
       "<table class=\"dataframe\">\n",
       "<caption>A tibble: 6 × 9</caption>\n",
       "<thead>\n",
       "\t<tr><th scope=col>company</th><th scope=col>bar_name</th><th scope=col>ref</th><th scope=col>review_date</th><th scope=col>cocoa_percent</th><th scope=col>company_location</th><th scope=col>rating</th><th scope=col>bean_type</th><th scope=col>broad_bean_origin</th></tr>\n",
       "\t<tr><th scope=col>&lt;chr&gt;</th><th scope=col>&lt;chr&gt;</th><th scope=col>&lt;dbl&gt;</th><th scope=col>&lt;dbl&gt;</th><th scope=col>&lt;chr&gt;</th><th scope=col>&lt;chr&gt;</th><th scope=col>&lt;dbl&gt;</th><th scope=col>&lt;chr&gt;</th><th scope=col>&lt;chr&gt;</th></tr>\n",
       "</thead>\n",
       "<tbody>\n",
       "\t<tr><td>A. Morin</td><td>Agua Grande</td><td>1876</td><td>2016</td><td>63%</td><td>France</td><td>3.75</td><td>       </td><td>Sao Tome </td></tr>\n",
       "\t<tr><td>A. Morin</td><td>Kpime      </td><td>1676</td><td>2015</td><td>70%</td><td>France</td><td>2.75</td><td>       </td><td>Togo     </td></tr>\n",
       "\t<tr><td>A. Morin</td><td>Atsane     </td><td>1676</td><td>2015</td><td>70%</td><td>France</td><td>3.00</td><td>       </td><td>Togo     </td></tr>\n",
       "\t<tr><td>A. Morin</td><td>Akata      </td><td>1680</td><td>2015</td><td>70%</td><td>France</td><td>3.50</td><td>       </td><td>Togo     </td></tr>\n",
       "\t<tr><td>A. Morin</td><td>Quilla     </td><td>1704</td><td>2015</td><td>70%</td><td>France</td><td>3.50</td><td>       </td><td>Peru     </td></tr>\n",
       "\t<tr><td>A. Morin</td><td>Carenero   </td><td>1315</td><td>2014</td><td>70%</td><td>France</td><td>2.75</td><td>Criollo</td><td>Venezuela</td></tr>\n",
       "</tbody>\n",
       "</table>\n"
      ],
      "text/latex": [
       "A tibble: 6 × 9\n",
       "\\begin{tabular}{lllllllll}\n",
       " company & bar\\_name & ref & review\\_date & cocoa\\_percent & company\\_location & rating & bean\\_type & broad\\_bean\\_origin\\\\\n",
       " <chr> & <chr> & <dbl> & <dbl> & <chr> & <chr> & <dbl> & <chr> & <chr>\\\\\n",
       "\\hline\n",
       "\t A. Morin & Agua Grande & 1876 & 2016 & 63\\% & France & 3.75 &         & Sao Tome \\\\\n",
       "\t A. Morin & Kpime       & 1676 & 2015 & 70\\% & France & 2.75 &         & Togo     \\\\\n",
       "\t A. Morin & Atsane      & 1676 & 2015 & 70\\% & France & 3.00 &         & Togo     \\\\\n",
       "\t A. Morin & Akata       & 1680 & 2015 & 70\\% & France & 3.50 &         & Togo     \\\\\n",
       "\t A. Morin & Quilla      & 1704 & 2015 & 70\\% & France & 3.50 &         & Peru     \\\\\n",
       "\t A. Morin & Carenero    & 1315 & 2014 & 70\\% & France & 2.75 & Criollo & Venezuela\\\\\n",
       "\\end{tabular}\n"
      ],
      "text/markdown": [
       "\n",
       "A tibble: 6 × 9\n",
       "\n",
       "| company &lt;chr&gt; | bar_name &lt;chr&gt; | ref &lt;dbl&gt; | review_date &lt;dbl&gt; | cocoa_percent &lt;chr&gt; | company_location &lt;chr&gt; | rating &lt;dbl&gt; | bean_type &lt;chr&gt; | broad_bean_origin &lt;chr&gt; |\n",
       "|---|---|---|---|---|---|---|---|---|\n",
       "| A. Morin | Agua Grande | 1876 | 2016 | 63% | France | 3.75 |         | Sao Tome  |\n",
       "| A. Morin | Kpime       | 1676 | 2015 | 70% | France | 2.75 |         | Togo      |\n",
       "| A. Morin | Atsane      | 1676 | 2015 | 70% | France | 3.00 |         | Togo      |\n",
       "| A. Morin | Akata       | 1680 | 2015 | 70% | France | 3.50 |         | Togo      |\n",
       "| A. Morin | Quilla      | 1704 | 2015 | 70% | France | 3.50 |         | Peru      |\n",
       "| A. Morin | Carenero    | 1315 | 2014 | 70% | France | 2.75 | Criollo | Venezuela |\n",
       "\n"
      ],
      "text/plain": [
       "  company  bar_name    ref  review_date cocoa_percent company_location rating\n",
       "1 A. Morin Agua Grande 1876 2016        63%           France           3.75  \n",
       "2 A. Morin Kpime       1676 2015        70%           France           2.75  \n",
       "3 A. Morin Atsane      1676 2015        70%           France           3.00  \n",
       "4 A. Morin Akata       1680 2015        70%           France           3.50  \n",
       "5 A. Morin Quilla      1704 2015        70%           France           3.50  \n",
       "6 A. Morin Carenero    1315 2014        70%           France           2.75  \n",
       "  bean_type broad_bean_origin\n",
       "1           Sao Tome         \n",
       "2           Togo             \n",
       "3           Togo             \n",
       "4           Togo             \n",
       "5           Peru             \n",
       "6 Criollo   Venezuela        "
      ]
     },
     "metadata": {},
     "output_type": "display_data"
    }
   ],
   "source": [
    "#Pre Processing (column names and drop NA)\n",
    "processed_df <- bars_df %>%\n",
    "    clean_names(.) %>%\n",
    "    drop_na(.) %>%\n",
    "    rename(company = company_maker_if_known, bar_name = specific_bean_origin_or_bar_name)\n",
    "head(processed_df)"
   ]
  },
  {
   "cell_type": "code",
   "execution_count": 5,
   "id": "6ff70b39",
   "metadata": {},
   "outputs": [
    {
     "data": {
      "text/html": [
       "<table class=\"dataframe\">\n",
       "<caption>A tibble: 6 × 3</caption>\n",
       "<thead>\n",
       "\t<tr><th scope=col>rating</th><th scope=col>cocoa_percent</th><th scope=col>company_location</th></tr>\n",
       "\t<tr><th scope=col>&lt;dbl&gt;</th><th scope=col>&lt;chr&gt;</th><th scope=col>&lt;chr&gt;</th></tr>\n",
       "</thead>\n",
       "<tbody>\n",
       "\t<tr><td>3.75</td><td>63%</td><td>France</td></tr>\n",
       "\t<tr><td>2.75</td><td>70%</td><td>France</td></tr>\n",
       "\t<tr><td>3.00</td><td>70%</td><td>France</td></tr>\n",
       "\t<tr><td>3.50</td><td>70%</td><td>France</td></tr>\n",
       "\t<tr><td>3.50</td><td>70%</td><td>France</td></tr>\n",
       "\t<tr><td>2.75</td><td>70%</td><td>France</td></tr>\n",
       "</tbody>\n",
       "</table>\n"
      ],
      "text/latex": [
       "A tibble: 6 × 3\n",
       "\\begin{tabular}{lll}\n",
       " rating & cocoa\\_percent & company\\_location\\\\\n",
       " <dbl> & <chr> & <chr>\\\\\n",
       "\\hline\n",
       "\t 3.75 & 63\\% & France\\\\\n",
       "\t 2.75 & 70\\% & France\\\\\n",
       "\t 3.00 & 70\\% & France\\\\\n",
       "\t 3.50 & 70\\% & France\\\\\n",
       "\t 3.50 & 70\\% & France\\\\\n",
       "\t 2.75 & 70\\% & France\\\\\n",
       "\\end{tabular}\n"
      ],
      "text/markdown": [
       "\n",
       "A tibble: 6 × 3\n",
       "\n",
       "| rating &lt;dbl&gt; | cocoa_percent &lt;chr&gt; | company_location &lt;chr&gt; |\n",
       "|---|---|---|\n",
       "| 3.75 | 63% | France |\n",
       "| 2.75 | 70% | France |\n",
       "| 3.00 | 70% | France |\n",
       "| 3.50 | 70% | France |\n",
       "| 3.50 | 70% | France |\n",
       "| 2.75 | 70% | France |\n",
       "\n"
      ],
      "text/plain": [
       "  rating cocoa_percent company_location\n",
       "1 3.75   63%           France          \n",
       "2 2.75   70%           France          \n",
       "3 3.00   70%           France          \n",
       "4 3.50   70%           France          \n",
       "5 3.50   70%           France          \n",
       "6 2.75   70%           France          "
      ]
     },
     "metadata": {},
     "output_type": "display_data"
    }
   ],
   "source": [
    "#Select specific datas\n",
    "trimmed_df <- processed_df %>%\n",
    "    select(rating, cocoa_percent, company_location)\n",
    "head(trimmed_df)"
   ]
  },
  {
   "cell_type": "markdown",
   "id": "01206997",
   "metadata": {},
   "source": [
    "#### Câu 6: Tính trung bình của rating "
   ]
  },
  {
   "cell_type": "code",
   "execution_count": 6,
   "id": "b4521f45",
   "metadata": {},
   "outputs": [
    {
     "data": {
      "text/html": [
       "<table class=\"dataframe\">\n",
       "<caption>A tibble: 1 × 1</caption>\n",
       "<thead>\n",
       "\t<tr><th scope=col>mean(rating)</th></tr>\n",
       "\t<tr><th scope=col>&lt;dbl&gt;</th></tr>\n",
       "</thead>\n",
       "<tbody>\n",
       "\t<tr><td>3.185862</td></tr>\n",
       "</tbody>\n",
       "</table>\n"
      ],
      "text/latex": [
       "A tibble: 1 × 1\n",
       "\\begin{tabular}{l}\n",
       " mean(rating)\\\\\n",
       " <dbl>\\\\\n",
       "\\hline\n",
       "\t 3.185862\\\\\n",
       "\\end{tabular}\n"
      ],
      "text/markdown": [
       "\n",
       "A tibble: 1 × 1\n",
       "\n",
       "| mean(rating) &lt;dbl&gt; |\n",
       "|---|\n",
       "| 3.185862 |\n",
       "\n"
      ],
      "text/plain": [
       "  mean(rating)\n",
       "1 3.185862    "
      ]
     },
     "metadata": {},
     "output_type": "display_data"
    }
   ],
   "source": [
    "trimmed_df %>%\n",
    "    summarize(mean(rating))"
   ]
  },
  {
   "cell_type": "markdown",
   "id": "b6c222d2",
   "metadata": {},
   "source": [
    "#### Câu 7: Lọc chocolate bars chứa ít nhất 75% cocoa and và có rating ít nhất 3.9 points"
   ]
  },
  {
   "cell_type": "code",
   "execution_count": 7,
   "id": "884f96c1",
   "metadata": {},
   "outputs": [
    {
     "data": {
      "text/html": [
       "<table class=\"dataframe\">\n",
       "<caption>A tibble: 6 × 3</caption>\n",
       "<thead>\n",
       "\t<tr><th scope=col>rating</th><th scope=col>cocoa_percent</th><th scope=col>company_location</th></tr>\n",
       "\t<tr><th scope=col>&lt;dbl&gt;</th><th scope=col>&lt;chr&gt;</th><th scope=col>&lt;chr&gt;</th></tr>\n",
       "</thead>\n",
       "<tbody>\n",
       "\t<tr><td>4</td><td>75%</td><td>Italy </td></tr>\n",
       "\t<tr><td>4</td><td>75%</td><td>France</td></tr>\n",
       "\t<tr><td>4</td><td>75%</td><td>France</td></tr>\n",
       "\t<tr><td>4</td><td>75%</td><td>France</td></tr>\n",
       "\t<tr><td>4</td><td>75%</td><td>France</td></tr>\n",
       "\t<tr><td>4</td><td>75%</td><td>France</td></tr>\n",
       "</tbody>\n",
       "</table>\n"
      ],
      "text/latex": [
       "A tibble: 6 × 3\n",
       "\\begin{tabular}{lll}\n",
       " rating & cocoa\\_percent & company\\_location\\\\\n",
       " <dbl> & <chr> & <chr>\\\\\n",
       "\\hline\n",
       "\t 4 & 75\\% & Italy \\\\\n",
       "\t 4 & 75\\% & France\\\\\n",
       "\t 4 & 75\\% & France\\\\\n",
       "\t 4 & 75\\% & France\\\\\n",
       "\t 4 & 75\\% & France\\\\\n",
       "\t 4 & 75\\% & France\\\\\n",
       "\\end{tabular}\n"
      ],
      "text/markdown": [
       "\n",
       "A tibble: 6 × 3\n",
       "\n",
       "| rating &lt;dbl&gt; | cocoa_percent &lt;chr&gt; | company_location &lt;chr&gt; |\n",
       "|---|---|---|\n",
       "| 4 | 75% | Italy  |\n",
       "| 4 | 75% | France |\n",
       "| 4 | 75% | France |\n",
       "| 4 | 75% | France |\n",
       "| 4 | 75% | France |\n",
       "| 4 | 75% | France |\n",
       "\n"
      ],
      "text/plain": [
       "  rating cocoa_percent company_location\n",
       "1 4      75%           Italy           \n",
       "2 4      75%           France          \n",
       "3 4      75%           France          \n",
       "4 4      75%           France          \n",
       "5 4      75%           France          \n",
       "6 4      75%           France          "
      ]
     },
     "metadata": {},
     "output_type": "display_data"
    }
   ],
   "source": [
    "best_trimmed_flavors <- trimmed_df %>%\n",
    "    filter(cocoa_percent >= 75, rating >= 3.9) \n",
    "head(best_trimmed_flavors)"
   ]
  },
  {
   "cell_type": "markdown",
   "id": "a763f9f1",
   "metadata": {},
   "source": [
    "#### Câu 8, 9, 10, 11, 12: Vẽ đồ thị \n",
    "Các câu này tương đối giống nhau và kiểu như tách các bước của nhau làm các câu nhỏ:\n",
    "Ví dụ như câu 8 sẽ là vẽ geom_bar, câu 9 sẽ thêm file, câu 10 nó sẽ kêu thêm tiêu đề.\n",
    "Riêng câu 11 và 12 là vẽ và ggsave()."
   ]
  },
  {
   "cell_type": "code",
   "execution_count": 8,
   "id": "274289f5",
   "metadata": {},
   "outputs": [
    {
     "data": {
      "image/png": "[encoded data removed]",
      "text/plain": [
       "plot without title"
      ]
     },
     "metadata": {
      "image/png": {
       "height": 420,
       "width": 420
      }
     },
     "output_type": "display_data"
    }
   ],
   "source": [
    "p <- ggplot(data = best_trimmed_flavors) +\n",
    "    geom_bar(mapping = aes(x = company_location, fill = rating))\n",
    "p + labs(title = 'Company Location Countings')"
   ]
  },
  {
   "cell_type": "code",
   "execution_count": 9,
   "id": "40ef66f3",
   "metadata": {},
   "outputs": [
    {
     "data": {
      "image/png": "[encoded data removed]",
      "text/plain": [
       "plot without title"
      ]
     },
     "metadata": {
      "image/png": {
       "height": 420,
       "width": 420
      }
     },
     "output_type": "display_data"
    }
   ],
   "source": [
    "ggplot(data = processed_df) +\n",
    "    geom_jitter(mapping = aes(x = cocoa_percent, y = rating)) "
   ]
  },
  {
   "cell_type": "code",
   "execution_count": 10,
   "id": "3416f351",
   "metadata": {},
   "outputs": [
    {
     "name": "stderr",
     "output_type": "stream",
     "text": [
      "Saving 6.67 x 6.67 in image\n",
      "\n"
     ]
    }
   ],
   "source": [
    "ggsave('chocolate.jpg')"
   ]
  }
 ],
 "metadata": {
  "kernelspec": {
   "display_name": "R",
   "language": "R",
   "name": "ir"
  },
  "language_info": {
   "codemirror_mode": "r",
   "file_extension": ".r",
   "mimetype": "text/x-r-source",
   "name": "R",
   "pygments_lexer": "r",
   "version": "4.2.1"
  }
 },
 "nbformat": 4,
 "nbformat_minor": 5
}
